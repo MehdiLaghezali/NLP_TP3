{
 "cells": [
  {
   "cell_type": "code",
   "execution_count": 18,
   "id": "3dac0b66",
   "metadata": {},
   "outputs": [
    {
     "name": "stdout",
     "output_type": "stream",
     "text": [
      "Word : Chi\tEntity : I-PER\tScore : 0.9986891746520996\n",
      "Word : ##elli\tEntity : I-PER\tScore : 0.9757890105247498\n",
      "Word : ##ni\tEntity : I-PER\tScore : 0.9912471771240234\n",
      "Word : Italy\tEntity : I-LOC\tScore : 0.9996157884597778\n",
      "Word : European\tEntity : I-MISC\tScore : 0.9959615468978882\n",
      "Word : Championship\tEntity : I-MISC\tScore : 0.9952985048294067\n",
      "Word : Italy\tEntity : I-LOC\tScore : 0.9997671246528625\n",
      "Word : Italians\tEntity : I-MISC\tScore : 0.9986447095870972\n",
      "Word : Wembley\tEntity : I-LOC\tScore : 0.9897027611732483\n"
     ]
    }
   ],
   "source": [
    "from transformers import pipeline\n",
    "\n",
    "ner_pipeline = pipeline(\"ner\")\n",
    "result = ner_pipeline(\"Chiellini was immense and the Italy captain now lifts the European Championship trophy, Italy's first since 1968. What a moment for the Italians at Wembley!\")\n",
    "for i in result:\n",
    "    print(\"Word : {}\\tEntity : {}\\tScore : {}\".format(i['word'],i['entity'],i['score']))"
   ]
  },
  {
   "cell_type": "code",
   "execution_count": null,
   "id": "acb0266e",
   "metadata": {},
   "outputs": [],
   "source": []
  },
  {
   "cell_type": "code",
   "execution_count": null,
   "id": "0d13a114",
   "metadata": {},
   "outputs": [],
   "source": []
  },
  {
   "cell_type": "code",
   "execution_count": null,
   "id": "297e8b37",
   "metadata": {},
   "outputs": [],
   "source": []
  }
 ],
 "metadata": {
  "kernelspec": {
   "display_name": "Python 3 (ipykernel)",
   "language": "python",
   "name": "python3"
  },
  "language_info": {
   "codemirror_mode": {
    "name": "ipython",
    "version": 3
   },
   "file_extension": ".py",
   "mimetype": "text/x-python",
   "name": "python",
   "nbconvert_exporter": "python",
   "pygments_lexer": "ipython3",
   "version": "3.8.0"
  }
 },
 "nbformat": 4,
 "nbformat_minor": 5
}
