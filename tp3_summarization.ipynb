{
 "cells": [
  {
   "cell_type": "code",
   "execution_count": 3,
   "id": "72d98ba1",
   "metadata": {},
   "outputs": [
    {
     "name": "stderr",
     "output_type": "stream",
     "text": [
      "Your max_length is set to 50, but you input_length is only 34. You might consider decreasing max_length manually, e.g. summarizer('...', max_length=50)\n"
     ]
    },
    {
     "name": "stdout",
     "output_type": "stream",
     "text": [
      "[{'summary_text': \" Italy captain Giorgio Chiellini lifts the European Championship trophy at Wembley . Italy captain now lifts the trophy for the first time since 1968 . Italy's first European Cup win since 1968 was won by Italy in 1968 .\"}]\n"
     ]
    }
   ],
   "source": [
    "from transformers import pipeline\n",
    "\n",
    "summarize_pipeline = pipeline(\"summarization\")\n",
    "result = summarize_pipeline(\"Chiellini was immense and the Italy captain now lifts the European Championship trophy, Italy's first since 1968. What a moment for the Italians at Wembley!\",max_length=50,min_length=10)\n",
    "print(result)\n"
   ]
  },
  {
   "cell_type": "code",
   "execution_count": null,
   "id": "21118474",
   "metadata": {},
   "outputs": [
    {
     "name": "stderr",
     "output_type": "stream",
     "text": [
      "Your max_length is set to 50, but you input_length is only 45. You might consider decreasing max_length manually, e.g. summarizer('...', max_length=50)\n"
     ]
    }
   ],
   "source": [
    "from transformers import pipeline\n",
    "\n",
    "summarize_pipeline = pipeline(\"summarization\")\n",
    "result = summarize_pipeline(\"Chiellini a été immense et le capitaine italien a maintenant le trophée du championnat européen, le premier d'Italie depuis 1968.\",max_length=50,min_length=10)\n",
    "print(result)"
   ]
  },
  {
   "cell_type": "code",
   "execution_count": null,
   "id": "4cca0567",
   "metadata": {},
   "outputs": [],
   "source": []
  }
 ],
 "metadata": {
  "kernelspec": {
   "display_name": "Python 3 (ipykernel)",
   "language": "python",
   "name": "python3"
  },
  "language_info": {
   "codemirror_mode": {
    "name": "ipython",
    "version": 3
   },
   "file_extension": ".py",
   "mimetype": "text/x-python",
   "name": "python",
   "nbconvert_exporter": "python",
   "pygments_lexer": "ipython3",
   "version": "3.8.0"
  }
 },
 "nbformat": 4,
 "nbformat_minor": 5
}
