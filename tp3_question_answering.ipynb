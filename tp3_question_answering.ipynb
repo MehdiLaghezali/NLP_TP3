{
 "cells": [
  {
   "cell_type": "code",
   "execution_count": 1,
   "id": "79464863",
   "metadata": {},
   "outputs": [
    {
     "name": "stdout",
     "output_type": "stream",
     "text": [
      "{'score': 0.22355498373508453, 'start': 26, 'end': 43, 'answer': 'the Italy captain'}\n"
     ]
    }
   ],
   "source": [
    "from transformers import pipeline\n",
    "\n",
    "ner_pipeline = pipeline(\"question-answering\")\n",
    "result = ner_pipeline(question=\"Who is Chiellini?\",context=\"Chiellini was immense and the Italy captain now lifts the European Championship trophy, Italy's first since 1968. What a moment for the Italians at Wembley!\")\n",
    "print(result)"
   ]
  },
  {
   "cell_type": "code",
   "execution_count": 2,
   "id": "e2e206b1",
   "metadata": {},
   "outputs": [
    {
     "name": "stdout",
     "output_type": "stream",
     "text": [
      "{'score': 0.03803487867116928, 'start': 10, 'end': 23, 'answer': 'a été immense'}\n"
     ]
    }
   ],
   "source": [
    "from transformers import pipeline\n",
    "\n",
    "ner_pipeline = pipeline(\"question-answering\")\n",
    "result = ner_pipeline(question=\"qui est Chiellini?\",context=\"Chiellini a été immense et le capitaine italien a maintenant le trophée du championnat européen, le premier d'Italie depuis 1968.\")\n",
    "print(result)"
   ]
  },
  {
   "cell_type": "code",
   "execution_count": null,
   "id": "045c8bf9",
   "metadata": {},
   "outputs": [],
   "source": []
  }
 ],
 "metadata": {
  "kernelspec": {
   "display_name": "Python 3 (ipykernel)",
   "language": "python",
   "name": "python3"
  },
  "language_info": {
   "codemirror_mode": {
    "name": "ipython",
    "version": 3
   },
   "file_extension": ".py",
   "mimetype": "text/x-python",
   "name": "python",
   "nbconvert_exporter": "python",
   "pygments_lexer": "ipython3",
   "version": "3.8.0"
  }
 },
 "nbformat": 4,
 "nbformat_minor": 5
}
